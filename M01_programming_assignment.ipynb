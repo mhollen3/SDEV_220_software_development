{
 "cells": [
  {
   "cell_type": "markdown",
   "id": "ab0cb082",
   "metadata": {},
   "source": [
    "Chapter 3 \"Things to do\" 3.1 - 3.6\n",
    "\n",
    "3.1 How many seconds in an hour?"
   ]
  },
  {
   "cell_type": "code",
   "execution_count": 2,
   "id": "857f36bf",
   "metadata": {},
   "outputs": [
    {
     "name": "stdout",
     "output_type": "stream",
     "text": [
      "3600\n"
     ]
    }
   ],
   "source": [
    "seconds_in_hour = 60 * 60\n",
    "print(seconds_in_hour)"
   ]
  },
  {
   "cell_type": "markdown",
   "id": "f7fb58ac",
   "metadata": {},
   "source": [
    "3.2 assign the result from 3.1 to \"seconds_per_hour\""
   ]
  },
  {
   "cell_type": "code",
   "execution_count": 3,
   "id": "bcc1354e",
   "metadata": {},
   "outputs": [],
   "source": [
    "seconds_per_hour = 3600"
   ]
  },
  {
   "cell_type": "markdown",
   "id": "985cdbe5",
   "metadata": {},
   "source": [
    "3.3 How many seconds in an hour?"
   ]
  },
  {
   "cell_type": "code",
   "execution_count": 6,
   "id": "680af67f",
   "metadata": {},
   "outputs": [
    {
     "data": {
      "text/plain": [
       "86400"
      ]
     },
     "execution_count": 6,
     "metadata": {},
     "output_type": "execute_result"
    }
   ],
   "source": [
    "seconds_per_hour * 24\n"
   ]
  },
  {
   "cell_type": "markdown",
   "id": "4496784e",
   "metadata": {},
   "source": [
    "3.4 assign the results of 3.3 to \"seconds_per_day\""
   ]
  },
  {
   "cell_type": "code",
   "execution_count": 7,
   "id": "7f675d47",
   "metadata": {},
   "outputs": [
    {
     "name": "stdout",
     "output_type": "stream",
     "text": [
      "86400\n"
     ]
    }
   ],
   "source": [
    "seconds_per_day = seconds_per_hour * 24\n",
    "print(seconds_per_day)"
   ]
  },
  {
   "cell_type": "markdown",
   "id": "c7d44fd2",
   "metadata": {},
   "source": [
    "3.5 divide seconds_per_day by seconds_per_hour"
   ]
  },
  {
   "cell_type": "code",
   "execution_count": 8,
   "id": "fc158cc0",
   "metadata": {},
   "outputs": [
    {
     "data": {
      "text/plain": [
       "24.0"
      ]
     },
     "execution_count": 8,
     "metadata": {},
     "output_type": "execute_result"
    }
   ],
   "source": [
    "seconds_per_day / seconds_per_hour"
   ]
  },
  {
   "cell_type": "markdown",
   "id": "6c619794",
   "metadata": {},
   "source": [
    "3.6 divide seconds_per_day by seconds_per_hour"
   ]
  },
  {
   "cell_type": "code",
   "execution_count": 9,
   "id": "2774bd98",
   "metadata": {},
   "outputs": [
    {
     "data": {
      "text/plain": [
       "24"
      ]
     },
     "execution_count": 9,
     "metadata": {},
     "output_type": "execute_result"
    }
   ],
   "source": [
    "seconds_per_day // seconds_per_hour"
   ]
  },
  {
   "cell_type": "markdown",
   "id": "eb52825e",
   "metadata": {},
   "source": [
    "yes, the numbers agree between 3.5 and 3.6"
   ]
  }
 ],
 "metadata": {
  "kernelspec": {
   "display_name": "Python 3 (ipykernel)",
   "language": "python",
   "name": "python3"
  },
  "language_info": {
   "codemirror_mode": {
    "name": "ipython",
    "version": 3
   },
   "file_extension": ".py",
   "mimetype": "text/x-python",
   "name": "python",
   "nbconvert_exporter": "python",
   "pygments_lexer": "ipython3",
   "version": "3.9.12"
  }
 },
 "nbformat": 4,
 "nbformat_minor": 5
}
