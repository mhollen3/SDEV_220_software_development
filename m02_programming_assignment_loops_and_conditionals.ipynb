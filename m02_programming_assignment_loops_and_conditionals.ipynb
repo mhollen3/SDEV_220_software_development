{
 "cells": [
  {
   "cell_type": "markdown",
   "id": "b0b49685",
   "metadata": {},
   "source": [
    "m02 programming assignment 4.1, 4.2, 6.1, 6.2, 6.3\n",
    "\n",
    "4.1 choose a number between 1 and 10 and assign it to the variable \"secret\""
   ]
  },
  {
   "cell_type": "code",
   "execution_count": 2,
   "id": "9b835bfa",
   "metadata": {},
   "outputs": [],
   "source": [
    "secret = 3"
   ]
  },
  {
   "cell_type": "markdown",
   "id": "d47f59c7",
   "metadata": {},
   "source": [
    "then, select another number between 1 and 10 and assign it to the variable \"guess\""
   ]
  },
  {
   "cell_type": "code",
   "execution_count": 3,
   "id": "e0da7b7a",
   "metadata": {},
   "outputs": [],
   "source": [
    "guess = 7"
   ]
  },
  {
   "cell_type": "markdown",
   "id": "e57309ce",
   "metadata": {},
   "source": [
    "next, write the conditional if, else, elif to print the string \"too low\" if guess is less than secret, \"too high\" if greater than secret and \"just right\" if equal to secret"
   ]
  },
  {
   "cell_type": "code",
   "execution_count": 6,
   "id": "bae22e9c",
   "metadata": {},
   "outputs": [
    {
     "name": "stdout",
     "output_type": "stream",
     "text": [
      "too high\n"
     ]
    }
   ],
   "source": [
    "if guess < secret:\n",
    "    print (\"too low\")\n",
    "\n",
    "elif guess > secret:\n",
    "    print (\"too high\")\n",
    "    \n",
    "else: \n",
    "    guess == secret\n",
    "    print (\"just right\")\n",
    "    "
   ]
  },
  {
   "cell_type": "markdown",
   "id": "82099ed0",
   "metadata": {},
   "source": [
    "4.2 assign true and false to the variables small and green"
   ]
  },
  {
   "cell_type": "code",
   "execution_count": 8,
   "id": "cfd7de88",
   "metadata": {},
   "outputs": [],
   "source": [
    "small = True\n",
    "\n",
    "green = True"
   ]
  },
  {
   "cell_type": "markdown",
   "id": "9cc53af1",
   "metadata": {},
   "source": [
    "Write some if / else statement to print with of these matches those choices: cherry, pea, watermelon, pumpkin"
   ]
  },
  {
   "cell_type": "code",
   "execution_count": 16,
   "id": "a8f36c0f",
   "metadata": {},
   "outputs": [
    {
     "name": "stdout",
     "output_type": "stream",
     "text": [
      "PEA\n"
     ]
    }
   ],
   "source": [
    "if small == True and green == True:\n",
    "    print(\"PEA\")\n",
    "\n",
    "elif small == False and green == True:\n",
    "    print(\"WATERMELON\")\n",
    "        \n",
    "elif small == True and green == False:\n",
    "    print(\"CHERRY\")\n",
    "        \n",
    "else:\n",
    "    print(\"PUMPKIN\")\n",
    "        \n",
    "        "
   ]
  },
  {
   "cell_type": "markdown",
   "id": "e2836add",
   "metadata": {},
   "source": [
    "6.1 use a for loop to print the values of the list [3,2,1,0]"
   ]
  },
  {
   "cell_type": "code",
   "execution_count": 10,
   "id": "fe22f7ed",
   "metadata": {},
   "outputs": [
    {
     "name": "stdout",
     "output_type": "stream",
     "text": [
      "0\n",
      "1\n",
      "2\n",
      "3\n"
     ]
    }
   ],
   "source": [
    "for x in range(0,4):\n",
    "    print (x)"
   ]
  },
  {
   "cell_type": "markdown",
   "id": "cccb167f",
   "metadata": {},
   "source": [
    "6.2 assign the value 7 to the variable \"guess_me\" and the value 1 the the variable \"number\". Write a while loop thats compares \"number\" to \"guess_me\". Print \"too low\" if \"number is less then \"guess_me\", if \"number\" equals \"guess_me\" print \"found it!\" then exit loop. If \"number\" is greater than \"guess_me\" print \"oops\" and then exit the loop, increment \"number at the end of the loop."
   ]
  },
  {
   "cell_type": "code",
   "execution_count": null,
   "id": "70d5a19c",
   "metadata": {},
   "outputs": [],
   "source": [
    "guess_me = 7\n",
    "\n",
    "number = 1\n",
    "\n",
    "count = 0\n",
    "while number < guess_me:\n",
    "    print(\"Too low\")\n",
    "    break\n",
    "\n",
    "if number == guess_me:\n",
    "    print(\"Found it!\")\n",
    "    count += 1\n",
    "\n",
    "else:\n",
    "    number > guess_me\n",
    "    print(\"oops\")"
   ]
  },
  {
   "cell_type": "markdown",
   "id": "bc2adc3a",
   "metadata": {},
   "source": [
    "6.3 assign the value 5 to the variable \"guess_me\". Use a for loop to iterate a variable called \"number\" over range (10). If Number is less than \"guess_me\", print \"too low\". If it equals\"guess_me\" print \"found it!\". and then break out of the loop. If \"number\" is greater than \"guess_me\" print \"oops\" and then exit the loop."
   ]
  },
  {
   "cell_type": "code",
   "execution_count": 11,
   "id": "027ede81",
   "metadata": {},
   "outputs": [
    {
     "name": "stdout",
     "output_type": "stream",
     "text": [
      "too low\n"
     ]
    }
   ],
   "source": [
    "guess_me = 5\n",
    "\n",
    "number = 1\n",
    "\n",
    "for number in range(0, 10):\n",
    "    if number == guess_me:\n",
    "        print(\"Found it!\")\n",
    "\n",
    "    if number > guess_me:\n",
    "        print(\"oops\")\n",
    "\n",
    "    if number < guess_me:\n",
    "        print(\"too low\")\n",
    "        break"
   ]
  },
  {
   "cell_type": "code",
   "execution_count": null,
   "id": "6fc95060",
   "metadata": {},
   "outputs": [],
   "source": []
  }
 ],
 "metadata": {
  "kernelspec": {
   "display_name": "Python 3 (ipykernel)",
   "language": "python",
   "name": "python3"
  },
  "language_info": {
   "codemirror_mode": {
    "name": "ipython",
    "version": 3
   },
   "file_extension": ".py",
   "mimetype": "text/x-python",
   "name": "python",
   "nbconvert_exporter": "python",
   "pygments_lexer": "ipython3",
   "version": "3.9.12"
  }
 },
 "nbformat": 4,
 "nbformat_minor": 5
}
