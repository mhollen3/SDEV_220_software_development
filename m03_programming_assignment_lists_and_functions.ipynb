{
 "cells": [
  {
   "cell_type": "markdown",
   "id": "7bd66e7b",
   "metadata": {},
   "source": [
    "m03 Programming Assignment - Lists and Functions\n",
    "\n",
    "7.4 Make a list called \"things\" with three strings as elements (\"mozzarella\", \"cinderella\", salmonella\")"
   ]
  },
  {
   "cell_type": "code",
   "execution_count": 2,
   "id": "87a7999a",
   "metadata": {},
   "outputs": [],
   "source": [
    "things = [\"mozzerella\",\"cinderella\",\"salmonella\"]"
   ]
  },
  {
   "cell_type": "markdown",
   "id": "89689aea",
   "metadata": {},
   "source": [
    "7.5 Capitalize the elements in \"things\" that refers to a person and print the list"
   ]
  },
  {
   "cell_type": "code",
   "execution_count": 25,
   "id": "27a3c28f",
   "metadata": {},
   "outputs": [
    {
     "name": "stdout",
     "output_type": "stream",
     "text": [
      "['mozzerella', 'CINDERELLA', 'salmonella']\n"
     ]
    }
   ],
   "source": [
    "things = [\"mozzerella\",\"cinderella\",\"salmonella\"]\n",
    "things[1] = things[1].upper()\n",
    "print(things)"
   ]
  },
  {
   "cell_type": "markdown",
   "id": "7d61a97a",
   "metadata": {},
   "source": [
    "7.6 Make the cheesy element of \"things\" all uppercase and then print the list"
   ]
  },
  {
   "cell_type": "code",
   "execution_count": 26,
   "id": "0aa561fd",
   "metadata": {},
   "outputs": [
    {
     "name": "stdout",
     "output_type": "stream",
     "text": [
      "['MOZZERELLA', 'cinderella', 'salmonella']\n"
     ]
    }
   ],
   "source": [
    "things = [\"mozzerella\",\"cinderella\",\"salmonella\"]\n",
    "things[0] = things[0].upper()\n",
    "print(things)"
   ]
  },
  {
   "cell_type": "markdown",
   "id": "2c7b83ec",
   "metadata": {},
   "source": [
    "7.7 Delete the disease element from \"things\" and then print the list"
   ]
  },
  {
   "cell_type": "code",
   "execution_count": 29,
   "id": "f240fd5d",
   "metadata": {},
   "outputs": [
    {
     "name": "stdout",
     "output_type": "stream",
     "text": [
      "['mozzerella', 'cinderella']\n"
     ]
    }
   ],
   "source": [
    "things = [\"mozzerella\",\"cinderella\",\"salmonella\"]\n",
    "things.pop(2)\n",
    "print(things)"
   ]
  },
  {
   "cell_type": "markdown",
   "id": "4f1acf67",
   "metadata": {},
   "source": [
    "9.1 Define a function called \"good()\" that returns the following list [\"harry\",\"ron\",\"hermione\"]"
   ]
  },
  {
   "cell_type": "code",
   "execution_count": 30,
   "id": "0c40c102",
   "metadata": {},
   "outputs": [
    {
     "name": "stdout",
     "output_type": "stream",
     "text": [
      "['harry', 'ron', 'hermione']\n"
     ]
    }
   ],
   "source": [
    "def good():\n",
    "    list = [\"harry\",\"ron\",\"hermione\"]\n",
    "    print(list)\n",
    "    \n",
    "good()    "
   ]
  },
  {
   "cell_type": "markdown",
   "id": "69576d23",
   "metadata": {},
   "source": [
    "9.2 Define a generator function called \"get_odds()\" that returns the odd numbers from \"range(10)\". Use a for loop to find and print the third value returned."
   ]
  },
  {
   "cell_type": "code",
   "execution_count": 33,
   "id": "08ea895a",
   "metadata": {},
   "outputs": [
    {
     "name": "stdout",
     "output_type": "stream",
     "text": [
      "5\n",
      "The third odd number is 5\n"
     ]
    }
   ],
   "source": [
    "limit = 10\n",
    "get_odds = (number for number in range(10) if not number % 2 == 0)\n",
    "count = 0\n",
    "for num in get_odds:\n",
    "    if count == 2:\n",
    "        print(num)\n",
    "        break\n",
    "    count += 1    \n",
    "\n",
    "\n",
    "def get_odds():\n",
    "    for number in range(1, 10, 2):\n",
    "        yield number\n",
    "\n",
    "count = 1\n",
    "for number in get_odds():\n",
    "    if count == 3:\n",
    "        print(\"The third odd number is\", number)\n",
    "    count += 1    \n",
    "        \n",
    "        "
   ]
  },
  {
   "cell_type": "code",
   "execution_count": null,
   "id": "30f17a73",
   "metadata": {},
   "outputs": [],
   "source": []
  }
 ],
 "metadata": {
  "kernelspec": {
   "display_name": "Python 3 (ipykernel)",
   "language": "python",
   "name": "python3"
  },
  "language_info": {
   "codemirror_mode": {
    "name": "ipython",
    "version": 3
   },
   "file_extension": ".py",
   "mimetype": "text/x-python",
   "name": "python",
   "nbconvert_exporter": "python",
   "pygments_lexer": "ipython3",
   "version": "3.9.12"
  }
 },
 "nbformat": 4,
 "nbformat_minor": 5
}
