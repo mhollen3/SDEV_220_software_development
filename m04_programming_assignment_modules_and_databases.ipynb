{
 "cells": [
  {
   "cell_type": "markdown",
   "id": "4332906c",
   "metadata": {},
   "source": [
    "11.1 Create a file called \"zoo.py\". in it define a function called \"hours()\" that prints the string \"Open 9-5 daily\". Then use the interactive interpreter to import the \"zoo\" module and call its \"hours()\" function."
   ]
  },
  {
   "cell_type": "code",
   "execution_count": 13,
   "id": "6ab8e596",
   "metadata": {},
   "outputs": [
    {
     "ename": "ModuleNotFoundError",
     "evalue": "No module named 'zoo'",
     "output_type": "error",
     "traceback": [
      "\u001b[1;31m---------------------------------------------------------------------------\u001b[0m",
      "\u001b[1;31mModuleNotFoundError\u001b[0m                       Traceback (most recent call last)",
      "Input \u001b[1;32mIn [13]\u001b[0m, in \u001b[0;36m<cell line: 1>\u001b[1;34m()\u001b[0m\n\u001b[1;32m----> 1\u001b[0m \u001b[38;5;28;01mimport\u001b[39;00m \u001b[38;5;21;01mzoo\u001b[39;00m\n\u001b[0;32m      3\u001b[0m hours \u001b[38;5;241m=\u001b[39m zoo\u001b[38;5;241m.\u001b[39mhours()\n\u001b[0;32m      4\u001b[0m \u001b[38;5;28mprint\u001b[39m(\u001b[38;5;124m\"\u001b[39m\u001b[38;5;124mThe zoos hours are\u001b[39m\u001b[38;5;124m\"\u001b[39m, hours)\n",
      "\u001b[1;31mModuleNotFoundError\u001b[0m: No module named 'zoo'"
     ]
    }
   ],
   "source": [
    "import zoo\n",
    "\n",
    "hours = zoo.hours()\n",
    "print(\"The zoos hours are\", hours)"
   ]
  },
  {
   "cell_type": "markdown",
   "id": "ae409902",
   "metadata": {},
   "source": [
    "11.2 Import the \"zoo\" module as \"menagerie\" and call its \"hours()\" function. "
   ]
  },
  {
   "cell_type": "code",
   "execution_count": 10,
   "id": "3ce22e35",
   "metadata": {},
   "outputs": [
    {
     "ename": "ModuleNotFoundError",
     "evalue": "No module named 'zoo'",
     "output_type": "error",
     "traceback": [
      "\u001b[1;31m---------------------------------------------------------------------------\u001b[0m",
      "\u001b[1;31mModuleNotFoundError\u001b[0m                       Traceback (most recent call last)",
      "Input \u001b[1;32mIn [10]\u001b[0m, in \u001b[0;36m<cell line: 1>\u001b[1;34m()\u001b[0m\n\u001b[1;32m----> 1\u001b[0m \u001b[38;5;28;01mimport\u001b[39;00m \u001b[38;5;21;01mzoo\u001b[39;00m \u001b[38;5;28;01mas\u001b[39;00m \u001b[38;5;21;01mmenagerie\u001b[39;00m\n\u001b[0;32m      2\u001b[0m hours \u001b[38;5;241m=\u001b[39m menagerie\u001b[38;5;241m.\u001b[39mhours()\n\u001b[0;32m      3\u001b[0m \u001b[38;5;28mprint\u001b[39m(\u001b[38;5;124m\"\u001b[39m\u001b[38;5;124mThe zoos hours are\u001b[39m\u001b[38;5;124m\"\u001b[39m, hours)\n",
      "\u001b[1;31mModuleNotFoundError\u001b[0m: No module named 'zoo'"
     ]
    }
   ],
   "source": [
    "import zoo as menagerie\n",
    "hours = menagerie.hours()\n",
    "print(\"The zoos hours are\", hours)"
   ]
  },
  {
   "cell_type": "markdown",
   "id": "da09a549",
   "metadata": {},
   "source": [
    "16.8  Use the sqlalchemy module to connect to the sqlite3 database books.db that you just made in exercise 16.4. As in 16.6, select and print the title column from the book table in alphabetical order."
   ]
  }
 ],
 "metadata": {
  "kernelspec": {
   "display_name": "Python 3 (ipykernel)",
   "language": "python",
   "name": "python3"
  },
  "language_info": {
   "codemirror_mode": {
    "name": "ipython",
    "version": 3
   },
   "file_extension": ".py",
   "mimetype": "text/x-python",
   "name": "python",
   "nbconvert_exporter": "python",
   "pygments_lexer": "ipython3",
   "version": "3.9.12"
  }
 },
 "nbformat": 4,
 "nbformat_minor": 5
}
