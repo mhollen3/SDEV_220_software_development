{
 "cells": [
  {
   "cell_type": "markdown",
   "id": "41a3b634",
   "metadata": {},
   "source": [
    "13.1 Write the current date as a string to the text file today.txt"
   ]
  },
  {
   "cell_type": "code",
   "execution_count": 2,
   "id": "17bfe911",
   "metadata": {},
   "outputs": [
    {
     "data": {
      "text/plain": [
       "datetime.date(2022, 7, 18)"
      ]
     },
     "execution_count": 2,
     "metadata": {},
     "output_type": "execute_result"
    }
   ],
   "source": [
    "from datetime import date\n",
    "today_string = date(2022, 7, 18)\n",
    "today_string"
   ]
  },
  {
   "cell_type": "markdown",
   "id": "0b00b3a9",
   "metadata": {},
   "source": [
    "13.2 Read the text file today.txt into the string today_String"
   ]
  },
  {
   "cell_type": "code",
   "execution_count": 3,
   "id": "a5d0e584",
   "metadata": {},
   "outputs": [
    {
     "data": {
      "text/plain": [
       "datetime.date(2022, 7, 18)"
      ]
     },
     "execution_count": 3,
     "metadata": {},
     "output_type": "execute_result"
    }
   ],
   "source": [
    "from datetime import date\n",
    "today_string = date(2022, 7, 18)\n",
    "today_string"
   ]
  },
  {
   "cell_type": "markdown",
   "id": "1cae23d0",
   "metadata": {},
   "source": [
    "13.3 Parse the date from today_String"
   ]
  },
  {
   "cell_type": "code",
   "execution_count": 5,
   "id": "9c0e0e93",
   "metadata": {},
   "outputs": [
    {
     "data": {
      "text/plain": [
       "datetime.date(2022, 7, 18)"
      ]
     },
     "execution_count": 5,
     "metadata": {},
     "output_type": "execute_result"
    }
   ],
   "source": [
    "from datetime import date\n",
    "monday = today_string.today()\n",
    "monday"
   ]
  },
  {
   "cell_type": "markdown",
   "id": "405b05aa",
   "metadata": {},
   "source": [
    "15.1 Use multiprocessing to create three separate processes. Make each one wait a random number of seconds between zero and one, print the current time, and then exit."
   ]
  },
  {
   "cell_type": "code",
   "execution_count": 30,
   "id": "e3d30255",
   "metadata": {},
   "outputs": [
    {
     "name": "stdout",
     "output_type": "stream",
     "text": [
      "2022-07-18 11:16:12.891489\n",
      "Waiting for 3 seconds\n",
      "2022-07-18 11:16:15.891910\n",
      "It takes 3.083972930908203 seconds\n"
     ]
    }
   ],
   "source": [
    "import multiprocessing,time,datetime,random\n",
    "\n",
    "\n",
    "def process1():\n",
    "    t1 = random.randint(1,5)\n",
    "    print(\"Waiting for \"+str(t1)+\" seconds\")\n",
    "    time.sleep(t1)\n",
    "print(datetime.datetime.now())\n",
    "\n",
    "\n",
    "start = time.time()\n",
    "process1 = process1()\n",
    "process2 = process1\n",
    "process3 = process1\n",
    "\n",
    "\n",
    "print(datetime.datetime.now())\n",
    "if __name__==\"__main__\":\n",
    "    \n",
    "    \n",
    "    \n",
    "    p1 = multiprocessing.Process(target=process1)\n",
    "    p2 = multiprocessing.Process(target=process2)\n",
    "    p3 = multiprocessing.Process(target=process3)\n",
    "\n",
    "    p1.start()\n",
    "    p2.start()\n",
    "    p3.start()\n",
    "\n",
    "    p1.join()\n",
    "    p2.join()\n",
    "    p3.join()\n",
    "\n",
    "end = time.time()\n",
    "    \n",
    "\n",
    "print(\"It takes \" +str(end-start)+\" seconds\")"
   ]
  },
  {
   "cell_type": "code",
   "execution_count": null,
   "id": "0190167e",
   "metadata": {},
   "outputs": [],
   "source": []
  }
 ],
 "metadata": {
  "kernelspec": {
   "display_name": "Python 3 (ipykernel)",
   "language": "python",
   "name": "python3"
  },
  "language_info": {
   "codemirror_mode": {
    "name": "ipython",
    "version": 3
   },
   "file_extension": ".py",
   "mimetype": "text/x-python",
   "name": "python",
   "nbconvert_exporter": "python",
   "pygments_lexer": "ipython3",
   "version": "3.9.12"
  }
 },
 "nbformat": 4,
 "nbformat_minor": 5
}
